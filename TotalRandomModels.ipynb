{
 "cells": [
  {
   "cell_type": "code",
   "execution_count": 1,
   "metadata": {},
   "outputs": [
    {
     "name": "stderr",
     "output_type": "stream",
     "text": [
      "C:\\Users\\ale_g\\AppData\\Roaming\\Python\\Python36\\site-packages\\sklearn\\ensemble\\weight_boosting.py:29: DeprecationWarning: numpy.core.umath_tests is an internal NumPy module and should not be imported. It will be removed in a future NumPy release.\n",
      "  from numpy.core.umath_tests import inner1d\n"
     ]
    }
   ],
   "source": [
    "from sklearn.datasets import load_iris,load_breast_cancer\n",
    "import numpy as np\n",
    "import pandas as pd\n",
    "from sklearn.model_selection import train_test_split\n",
    "from sklearn.ensemble import RandomForestClassifier,AdaBoostClassifier,GradientBoostingClassifier\n",
    "from sklearn.tree import DecisionTreeClassifier\n",
    "from sklearn.svm import SVC\n",
    "from sklearn.metrics import accuracy_score ,recall_score, precision_score"
   ]
  },
  {
   "cell_type": "code",
   "execution_count": 4,
   "metadata": {},
   "outputs": [
    {
     "data": {
      "text/plain": [
       "Index(['mean radius', 'mean texture', 'mean perimeter', 'mean area',\n",
       "       'mean smoothness', 'mean compactness', 'mean concavity',\n",
       "       'mean concave points', 'mean symmetry', 'mean fractal dimension',\n",
       "       'radius error', 'texture error', 'perimeter error', 'area error',\n",
       "       'smoothness error', 'compactness error', 'concavity error',\n",
       "       'concave points error', 'symmetry error', 'fractal dimension error',\n",
       "       'worst radius', 'worst texture', 'worst perimeter', 'worst area',\n",
       "       'worst smoothness', 'worst compactness', 'worst concavity',\n",
       "       'worst concave points', 'worst symmetry', 'worst fractal dimension',\n",
       "       'target'],\n",
       "      dtype='object')"
      ]
     },
     "execution_count": 4,
     "metadata": {},
     "output_type": "execute_result"
    }
   ],
   "source": [
    "data.columns"
   ]
  },
  {
   "cell_type": "code",
   "execution_count": 3,
   "metadata": {},
   "outputs": [
    {
     "data": {
      "text/html": [
       "<div>\n",
       "<style scoped>\n",
       "    .dataframe tbody tr th:only-of-type {\n",
       "        vertical-align: middle;\n",
       "    }\n",
       "\n",
       "    .dataframe tbody tr th {\n",
       "        vertical-align: top;\n",
       "    }\n",
       "\n",
       "    .dataframe thead th {\n",
       "        text-align: right;\n",
       "    }\n",
       "</style>\n",
       "<table border=\"1\" class=\"dataframe\">\n",
       "  <thead>\n",
       "    <tr style=\"text-align: right;\">\n",
       "      <th></th>\n",
       "      <th>mean radius</th>\n",
       "      <th>mean texture</th>\n",
       "      <th>mean perimeter</th>\n",
       "      <th>mean area</th>\n",
       "      <th>mean smoothness</th>\n",
       "      <th>mean compactness</th>\n",
       "      <th>mean concavity</th>\n",
       "      <th>mean concave points</th>\n",
       "      <th>mean symmetry</th>\n",
       "      <th>mean fractal dimension</th>\n",
       "      <th>...</th>\n",
       "      <th>worst texture</th>\n",
       "      <th>worst perimeter</th>\n",
       "      <th>worst area</th>\n",
       "      <th>worst smoothness</th>\n",
       "      <th>worst compactness</th>\n",
       "      <th>worst concavity</th>\n",
       "      <th>worst concave points</th>\n",
       "      <th>worst symmetry</th>\n",
       "      <th>worst fractal dimension</th>\n",
       "      <th>target</th>\n",
       "    </tr>\n",
       "  </thead>\n",
       "  <tbody>\n",
       "    <tr>\n",
       "      <th>0</th>\n",
       "      <td>17.99</td>\n",
       "      <td>10.38</td>\n",
       "      <td>122.80</td>\n",
       "      <td>1001.0</td>\n",
       "      <td>0.11840</td>\n",
       "      <td>0.27760</td>\n",
       "      <td>0.3001</td>\n",
       "      <td>0.14710</td>\n",
       "      <td>0.2419</td>\n",
       "      <td>0.07871</td>\n",
       "      <td>...</td>\n",
       "      <td>17.33</td>\n",
       "      <td>184.60</td>\n",
       "      <td>2019.0</td>\n",
       "      <td>0.1622</td>\n",
       "      <td>0.6656</td>\n",
       "      <td>0.7119</td>\n",
       "      <td>0.2654</td>\n",
       "      <td>0.4601</td>\n",
       "      <td>0.11890</td>\n",
       "      <td>0</td>\n",
       "    </tr>\n",
       "    <tr>\n",
       "      <th>1</th>\n",
       "      <td>20.57</td>\n",
       "      <td>17.77</td>\n",
       "      <td>132.90</td>\n",
       "      <td>1326.0</td>\n",
       "      <td>0.08474</td>\n",
       "      <td>0.07864</td>\n",
       "      <td>0.0869</td>\n",
       "      <td>0.07017</td>\n",
       "      <td>0.1812</td>\n",
       "      <td>0.05667</td>\n",
       "      <td>...</td>\n",
       "      <td>23.41</td>\n",
       "      <td>158.80</td>\n",
       "      <td>1956.0</td>\n",
       "      <td>0.1238</td>\n",
       "      <td>0.1866</td>\n",
       "      <td>0.2416</td>\n",
       "      <td>0.1860</td>\n",
       "      <td>0.2750</td>\n",
       "      <td>0.08902</td>\n",
       "      <td>0</td>\n",
       "    </tr>\n",
       "    <tr>\n",
       "      <th>2</th>\n",
       "      <td>19.69</td>\n",
       "      <td>21.25</td>\n",
       "      <td>130.00</td>\n",
       "      <td>1203.0</td>\n",
       "      <td>0.10960</td>\n",
       "      <td>0.15990</td>\n",
       "      <td>0.1974</td>\n",
       "      <td>0.12790</td>\n",
       "      <td>0.2069</td>\n",
       "      <td>0.05999</td>\n",
       "      <td>...</td>\n",
       "      <td>25.53</td>\n",
       "      <td>152.50</td>\n",
       "      <td>1709.0</td>\n",
       "      <td>0.1444</td>\n",
       "      <td>0.4245</td>\n",
       "      <td>0.4504</td>\n",
       "      <td>0.2430</td>\n",
       "      <td>0.3613</td>\n",
       "      <td>0.08758</td>\n",
       "      <td>0</td>\n",
       "    </tr>\n",
       "    <tr>\n",
       "      <th>3</th>\n",
       "      <td>11.42</td>\n",
       "      <td>20.38</td>\n",
       "      <td>77.58</td>\n",
       "      <td>386.1</td>\n",
       "      <td>0.14250</td>\n",
       "      <td>0.28390</td>\n",
       "      <td>0.2414</td>\n",
       "      <td>0.10520</td>\n",
       "      <td>0.2597</td>\n",
       "      <td>0.09744</td>\n",
       "      <td>...</td>\n",
       "      <td>26.50</td>\n",
       "      <td>98.87</td>\n",
       "      <td>567.7</td>\n",
       "      <td>0.2098</td>\n",
       "      <td>0.8663</td>\n",
       "      <td>0.6869</td>\n",
       "      <td>0.2575</td>\n",
       "      <td>0.6638</td>\n",
       "      <td>0.17300</td>\n",
       "      <td>0</td>\n",
       "    </tr>\n",
       "    <tr>\n",
       "      <th>4</th>\n",
       "      <td>20.29</td>\n",
       "      <td>14.34</td>\n",
       "      <td>135.10</td>\n",
       "      <td>1297.0</td>\n",
       "      <td>0.10030</td>\n",
       "      <td>0.13280</td>\n",
       "      <td>0.1980</td>\n",
       "      <td>0.10430</td>\n",
       "      <td>0.1809</td>\n",
       "      <td>0.05883</td>\n",
       "      <td>...</td>\n",
       "      <td>16.67</td>\n",
       "      <td>152.20</td>\n",
       "      <td>1575.0</td>\n",
       "      <td>0.1374</td>\n",
       "      <td>0.2050</td>\n",
       "      <td>0.4000</td>\n",
       "      <td>0.1625</td>\n",
       "      <td>0.2364</td>\n",
       "      <td>0.07678</td>\n",
       "      <td>0</td>\n",
       "    </tr>\n",
       "  </tbody>\n",
       "</table>\n",
       "<p>5 rows × 31 columns</p>\n",
       "</div>"
      ],
      "text/plain": [
       "   mean radius  mean texture  mean perimeter  mean area  mean smoothness  \\\n",
       "0        17.99         10.38          122.80     1001.0          0.11840   \n",
       "1        20.57         17.77          132.90     1326.0          0.08474   \n",
       "2        19.69         21.25          130.00     1203.0          0.10960   \n",
       "3        11.42         20.38           77.58      386.1          0.14250   \n",
       "4        20.29         14.34          135.10     1297.0          0.10030   \n",
       "\n",
       "   mean compactness  mean concavity  mean concave points  mean symmetry  \\\n",
       "0           0.27760          0.3001              0.14710         0.2419   \n",
       "1           0.07864          0.0869              0.07017         0.1812   \n",
       "2           0.15990          0.1974              0.12790         0.2069   \n",
       "3           0.28390          0.2414              0.10520         0.2597   \n",
       "4           0.13280          0.1980              0.10430         0.1809   \n",
       "\n",
       "   mean fractal dimension   ...    worst texture  worst perimeter  worst area  \\\n",
       "0                 0.07871   ...            17.33           184.60      2019.0   \n",
       "1                 0.05667   ...            23.41           158.80      1956.0   \n",
       "2                 0.05999   ...            25.53           152.50      1709.0   \n",
       "3                 0.09744   ...            26.50            98.87       567.7   \n",
       "4                 0.05883   ...            16.67           152.20      1575.0   \n",
       "\n",
       "   worst smoothness  worst compactness  worst concavity  worst concave points  \\\n",
       "0            0.1622             0.6656           0.7119                0.2654   \n",
       "1            0.1238             0.1866           0.2416                0.1860   \n",
       "2            0.1444             0.4245           0.4504                0.2430   \n",
       "3            0.2098             0.8663           0.6869                0.2575   \n",
       "4            0.1374             0.2050           0.4000                0.1625   \n",
       "\n",
       "   worst symmetry  worst fractal dimension  target  \n",
       "0          0.4601                  0.11890       0  \n",
       "1          0.2750                  0.08902       0  \n",
       "2          0.3613                  0.08758       0  \n",
       "3          0.6638                  0.17300       0  \n",
       "4          0.2364                  0.07678       0  \n",
       "\n",
       "[5 rows x 31 columns]"
      ]
     },
     "execution_count": 3,
     "metadata": {},
     "output_type": "execute_result"
    }
   ],
   "source": [
    "data = pd.DataFrame(load_breast_cancer().data,columns=load_breast_cancer().feature_names)\n",
    "data['target'] = load_breast_cancer().target\n",
    "data.head()"
   ]
  },
  {
   "cell_type": "code",
   "execution_count": 5,
   "metadata": {},
   "outputs": [],
   "source": [
    "X_train, X_test, y_train, y_test = train_test_split(data.drop('target',axis=1), data.target, test_size=0.33, random_state=42)"
   ]
  },
  {
   "cell_type": "code",
   "execution_count": 47,
   "metadata": {},
   "outputs": [],
   "source": [
    "class RandomModelsClassifier():\n",
    "    \n",
    "    def __init__(self, model, n_estimators = 10, row_sample_ratio = 0.666, col_sample_ratio = '',random_state = '',\n",
    "                amostragem_rep = False, random_param = False, params = {}):\n",
    "        self.n_estimators = n_estimators\n",
    "        self.model = model\n",
    "        self.row_sample_ratio = row_sample_ratio\n",
    "        self.col_sample_ratio = col_sample_ratio\n",
    "        self.random_state = random_state\n",
    "        self.amostragem_rep = amostragem_rep\n",
    "        self.random_param = random_param\n",
    "        self.params = params\n",
    "        self.forests = []\n",
    " \n",
    "    def fit(self,X_train,y_train):\n",
    "        from math import sqrt\n",
    "        import numpy as np\n",
    "        from copy import deepcopy\n",
    "        \n",
    "        if self.random_state != \"\":\n",
    "            np.random.seed(self.random_state)\n",
    "            \n",
    "        self.forests = []\n",
    "        self.col = []\n",
    "        for n in range(0,self.n_estimators):\n",
    "            if self.col_sample_ratio == '':\n",
    "                samp_col = np.random.choice(X_train.columns,size = int(round(sqrt(len(X_train.columns)),0)),replace=self.amostragem_rep)\n",
    "            else:\n",
    "                samp_col = np.random.choice(X_train.columns,size = int(round(self.col_sample_ratio*(len(X_train.columns)),0)),replace=self.amostragem_rep)\n",
    "                \n",
    "            samp_lines = np.random.choice(X_train.index,size = int(round(self.row_sample_ratio*len(X_train),0)),replace=self.amostragem_rep)\n",
    "            \n",
    "            if self.random_param:\n",
    "                new_dict = {}\n",
    "                for i in self.params:\n",
    "                    new_dict[i] = np.random.choice(self.params[i],1)[0]\n",
    "                    self.model.set_params(**new_dict)\n",
    "            \n",
    "            model = self.model.fit(X_train.loc[samp_lines][samp_col], y_train.loc[samp_lines][:])\n",
    "            \n",
    "            self.forests.append(deepcopy(model))\n",
    "            self.col.append(samp_col)\n",
    "            \n",
    "   \n",
    "    def predict(self,X_test):\n",
    "        from collections import Counter\n",
    "        self.pred_final = []\n",
    "        self.pred = []\n",
    "        #para cada modelo da predict com as colunas que foram usadas anteriormente no modelo fittado\n",
    "        for cont, modelos in enumerate(self.forests):\n",
    "            self.pred.append(modelos.predict(X_test.loc[:][self.col[cont]]))\n",
    "            \n",
    "        self.pred = pd.DataFrame(self.pred)\n",
    "        ind = None\n",
    "        for c in range(0,len(self.pred.columns)):\n",
    "            ind , _ = Counter(self.pred.iloc[:][c].values).most_common()[0]\n",
    "            self.pred_final.append(ind)\n",
    "        return(self.pred_final)\n",
    "    \n",
    "    def predict_proba(self,X_test):\n",
    "        from collections import Counter\n",
    "        self.pred_final = []\n",
    "        for num_linhas in X_test.index:\n",
    "            self.pred = []\n",
    "            for cont,modelos in enumerate(self.forests):\n",
    "                self.pred.append(modelos.predict(pd.DataFrame(X_test.loc[num_linhas][self.col[cont]]).T)[0])\n",
    "            c = Counter(self.pred)\n",
    "            dicio_prob = {}\n",
    "            for indexes, valores in c.most_common():\n",
    "                dicio_prob[indexes] = valores/self.n_estimators \n",
    "            self.pred_final.append(dicio_prob)\n",
    "        unicos = self.forests[0].classes_\n",
    "        self.pred_desejado = [[] for i in range(0,len(pred))]\n",
    "        for cont,i in enumerate(self.pred_final):\n",
    "            try:\n",
    "                self.pred_desejado[cont].append(i[unicos[0]])\n",
    "            except:\n",
    "                self.pred_desejado[cont].append(0.00)\n",
    "                pass\n",
    "            try:\n",
    "                self.pred_desejado[cont].append(i[unicos[1]])\n",
    "            except:\n",
    "                self.pred_desejado[cont].append(0.00)\n",
    "    \n",
    "        return(self.pred_desejado)\n"
   ]
  },
  {
   "cell_type": "code",
   "execution_count": 48,
   "metadata": {},
   "outputs": [
    {
     "data": {
      "text/plain": [
       "0.9680851063829787"
      ]
     },
     "execution_count": 48,
     "metadata": {},
     "output_type": "execute_result"
    }
   ],
   "source": [
    "from sklearn.metrics import make_scorer\n",
    "from sklearn.neighbors import KNeighborsClassifier\n",
    "from sklearn.naive_bayes import GaussianNB\n",
    "\n",
    "rm = RandomModelsClassifier(DecisionTreeClassifier(random_state=42),\n",
    "                            10,row_sample_ratio=0.8,random_state=42,random_param = True,\n",
    "                           params = {'max_depth':[1,3,5,7],'min_samples_split':[3,5,7,9], 'min_samples_leaf':[1,3,5,7]})\n",
    "\n",
    "rm.fit(X_train,y_train)\n",
    "accuracy_score(y_test,rm.predict(X_test))"
   ]
  },
  {
   "cell_type": "code",
   "execution_count": 51,
   "metadata": {},
   "outputs": [
    {
     "data": {
      "text/plain": [
       "[[0.1, 0.9], [0.9, 0.1], [0.9, 0.1], [0.0, 1.0], [0.0, 1.0]]"
      ]
     },
     "execution_count": 51,
     "metadata": {},
     "output_type": "execute_result"
    }
   ],
   "source": [
    "probs = rm.predict_proba(X_test)\n",
    "probs[:5]"
   ]
  },
  {
   "cell_type": "code",
   "execution_count": 454,
   "metadata": {},
   "outputs": [
    {
     "data": {
      "text/plain": [
       "0.9414893617021277"
      ]
     },
     "execution_count": 454,
     "metadata": {},
     "output_type": "execute_result"
    }
   ],
   "source": [
    "accuracy_score(y_test,RandomForestClassifier(random_state=42).fit(X_train,y_train).predict(X_test))"
   ]
  },
  {
   "cell_type": "code",
   "execution_count": 430,
   "metadata": {},
   "outputs": [],
   "source": [
    "from sklearn.model_selection import GridSearchCV"
   ]
  },
  {
   "cell_type": "code",
   "execution_count": 431,
   "metadata": {},
   "outputs": [],
   "source": [
    "grid = GridSearchCV(RandomForestClassifier(random_state=42),\n",
    "            {'max_depth':[1,3,5,7],'min_samples_split':[3,5,7,9], 'min_samples_leaf':[1,3,5,7]},\n",
    "            make_scorer(accuracy_score))"
   ]
  },
  {
   "cell_type": "code",
   "execution_count": 455,
   "metadata": {},
   "outputs": [],
   "source": [
    "grid.fit(X_train,y_train);"
   ]
  },
  {
   "cell_type": "code",
   "execution_count": 445,
   "metadata": {},
   "outputs": [
    {
     "data": {
      "text/plain": [
       "{'max_depth': 5, 'min_samples_leaf': 1, 'min_samples_split': 3}"
      ]
     },
     "execution_count": 445,
     "metadata": {},
     "output_type": "execute_result"
    }
   ],
   "source": [
    "grid.best_params_"
   ]
  },
  {
   "cell_type": "code",
   "execution_count": 446,
   "metadata": {},
   "outputs": [],
   "source": [
    "rf = RandomForestClassifier(random_state=42, max_depth=5,min_samples_leaf=3,min_samples_split=3)"
   ]
  },
  {
   "cell_type": "code",
   "execution_count": 456,
   "metadata": {},
   "outputs": [
    {
     "data": {
      "text/plain": [
       "0.9574468085106383"
      ]
     },
     "execution_count": 456,
     "metadata": {},
     "output_type": "execute_result"
    }
   ],
   "source": [
    "rf.fit(X_train,y_train)\n",
    "accuracy_score(y_test,rf.predict(X_test))"
   ]
  },
  {
   "cell_type": "code",
   "execution_count": 508,
   "metadata": {},
   "outputs": [
    {
     "data": {
      "text/plain": [
       "0.9414893617021277"
      ]
     },
     "execution_count": 508,
     "metadata": {},
     "output_type": "execute_result"
    }
   ],
   "source": [
    "from sklearn.metrics import make_scorer\n",
    "from sklearn.neighbors import KNeighborsClassifier\n",
    "from sklearn.naive_bayes import GaussianNB\n",
    "\n",
    "rm = RandomModelsClassifier(DecisionTreeClassifier(random_state=42),\n",
    "                            10,row_sample_ratio=0.8,random_state=42,random_param = False,\n",
    "                           params = {'max_depth':[1,3,5,7],'min_samples_split':[3,5,7,9], 'min_samples_leaf':[1,3,5,7]})\n",
    "\n",
    "rm.fit(X_train,y_train)\n",
    "accuracy_score(y_test,rm.predict(X_test))"
   ]
  },
  {
   "cell_type": "markdown",
   "metadata": {},
   "source": [
    "<h1>KNN</h1>"
   ]
  },
  {
   "cell_type": "code",
   "execution_count": 517,
   "metadata": {},
   "outputs": [
    {
     "data": {
      "text/plain": [
       "0.973404255319149"
      ]
     },
     "execution_count": 517,
     "metadata": {},
     "output_type": "execute_result"
    }
   ],
   "source": [
    "grid_knn = GridSearchCV(KNeighborsClassifier(),\n",
    "                        param_grid={'n_neighbors':[2,3,5,7,9]},\n",
    "                        scoring=make_scorer(accuracy_score))\n",
    "grid_knn.fit(X_train,y_train);\n",
    "knn = KNeighborsClassifier().set_params(**grid_knn.best_params_)\n",
    "knn.fit(X_train,y_train)\n",
    "accuracy_score(y_test,knn.predict(X_test))"
   ]
  },
  {
   "cell_type": "code",
   "execution_count": 557,
   "metadata": {},
   "outputs": [
    {
     "data": {
      "text/plain": [
       "0.9574468085106383"
      ]
     },
     "execution_count": 557,
     "metadata": {},
     "output_type": "execute_result"
    }
   ],
   "source": [
    "rm = RandomModelsClassifier(KNeighborsClassifier(n_neighbors=9),\n",
    "                            10,row_sample_ratio=0.8,\n",
    "                            random_state=42,random_param = False,\n",
    "                           params = {'n_neighbors':[2,3,5,7,9]})\n",
    "\n",
    "rm.fit(X_train,y_train)\n",
    "accuracy_score(y_test,rm.predict(X_test))"
   ]
  },
  {
   "cell_type": "code",
   "execution_count": 558,
   "metadata": {},
   "outputs": [
    {
     "data": {
      "text/plain": [
       "0.9627659574468085"
      ]
     },
     "execution_count": 558,
     "metadata": {},
     "output_type": "execute_result"
    }
   ],
   "source": [
    "rm = RandomModelsClassifier(KNeighborsClassifier(),\n",
    "                            10,row_sample_ratio=0.8,\n",
    "                            random_state=42,random_param = True,\n",
    "                           params = {'n_neighbors':[2,3,5,7,9]})\n",
    "\n",
    "rm.fit(X_train,y_train)\n",
    "accuracy_score(y_test,rm.predict(X_test))"
   ]
  },
  {
   "cell_type": "code",
   "execution_count": 565,
   "metadata": {},
   "outputs": [
    {
     "data": {
      "text/plain": [
       "0.9627659574468085"
      ]
     },
     "execution_count": 565,
     "metadata": {},
     "output_type": "execute_result"
    }
   ],
   "source": [
    "rm = RandomModelsClassifier(KNeighborsClassifier(),\n",
    "                            10,row_sample_ratio=1,\n",
    "                            random_state=42,random_param = True,\n",
    "                           params = {'n_neighbors':[2,3,5,7,9]})\n",
    "\n",
    "rm.fit(X_train,y_train)\n",
    "accuracy_score(y_test,rm.predict(X_test))"
   ]
  },
  {
   "cell_type": "markdown",
   "metadata": {},
   "source": [
    "<h1>SVM</h1>"
   ]
  },
  {
   "cell_type": "code",
   "execution_count": 568,
   "metadata": {},
   "outputs": [
    {
     "data": {
      "text/plain": [
       "0.6436170212765957"
      ]
     },
     "execution_count": 568,
     "metadata": {},
     "output_type": "execute_result"
    }
   ],
   "source": [
    "grid_svc = GridSearchCV(SVC(random_state=42),\n",
    "                        param_grid={'C':[0.1,0.5,0.7,0.8,0.9,1]},\n",
    "                        scoring=make_scorer(accuracy_score))\n",
    "grid_svc.fit(X_train,y_train);\n",
    "svc = SVC().set_params(**grid_svc.best_params_)\n",
    "svc.fit(X_train,y_train)\n",
    "accuracy_score(y_test,svc.predict(X_test))"
   ]
  },
  {
   "cell_type": "code",
   "execution_count": 576,
   "metadata": {},
   "outputs": [
    {
     "data": {
      "text/plain": [
       "0.6436170212765957"
      ]
     },
     "execution_count": 576,
     "metadata": {},
     "output_type": "execute_result"
    }
   ],
   "source": [
    "rm = RandomModelsClassifier(SVC(C=0.1),\n",
    "                            10,row_sample_ratio=0.8,\n",
    "                            random_state=42,random_param = False,\n",
    "                           params={'C':[0.1,0.5,0.7,0.8,0.9,1]})\n",
    "\n",
    "rm.fit(X_train,y_train)\n",
    "accuracy_score(y_test,rm.predict(X_test))"
   ]
  },
  {
   "cell_type": "code",
   "execution_count": 566,
   "metadata": {},
   "outputs": [
    {
     "data": {
      "text/plain": [
       "0.7180851063829787"
      ]
     },
     "execution_count": 566,
     "metadata": {},
     "output_type": "execute_result"
    }
   ],
   "source": [
    "rm = RandomModelsClassifier(SVC(),\n",
    "                            10,row_sample_ratio=0.8,\n",
    "                            random_state=42,random_param = True,\n",
    "                           params={'C':[0.1,0.5,0.7,0.8,0.9,1]})\n",
    "\n",
    "rm.fit(X_train,y_train)\n",
    "accuracy_score(y_test,rm.predict(X_test))"
   ]
  },
  {
   "cell_type": "code",
   "execution_count": 567,
   "metadata": {},
   "outputs": [
    {
     "data": {
      "text/plain": [
       "0.7393617021276596"
      ]
     },
     "execution_count": 567,
     "metadata": {},
     "output_type": "execute_result"
    }
   ],
   "source": [
    "rm = RandomModelsClassifier(SVC(),\n",
    "                            10,row_sample_ratio=1,\n",
    "                            random_state=42,random_param = True,\n",
    "                           params={'C':[0.1,0.5,0.7,0.8,0.9,1]})\n",
    "\n",
    "rm.fit(X_train,y_train)\n",
    "accuracy_score(y_test,rm.predict(X_test))"
   ]
  },
  {
   "cell_type": "markdown",
   "metadata": {},
   "source": [
    "<h1>Logistic Regression</h1>"
   ]
  },
  {
   "cell_type": "code",
   "execution_count": 582,
   "metadata": {},
   "outputs": [
    {
     "data": {
      "text/plain": [
       "0.9627659574468085"
      ]
     },
     "execution_count": 582,
     "metadata": {},
     "output_type": "execute_result"
    }
   ],
   "source": [
    "from sklearn.linear_model import LogisticRegression\n",
    "grid_log = GridSearchCV(LogisticRegression(random_state=42),\n",
    "                        param_grid={'C':[0.1,0.5,0.7,0.8,0.9,1], 'penalty':['l2','l1']},\n",
    "                        scoring=make_scorer(accuracy_score))\n",
    "grid_log.fit(X_train,y_train);\n",
    "log = LogisticRegression().set_params(**grid_log.best_params_)\n",
    "log.fit(X_train,y_train)\n",
    "accuracy_score(y_test,log.predict(X_test))"
   ]
  },
  {
   "cell_type": "code",
   "execution_count": 589,
   "metadata": {},
   "outputs": [
    {
     "data": {
      "text/plain": [
       "0.9680851063829787"
      ]
     },
     "execution_count": 589,
     "metadata": {},
     "output_type": "execute_result"
    }
   ],
   "source": [
    "rm = RandomModelsClassifier(LogisticRegression(C=0.7, penalty='l1'),\n",
    "                            1000,row_sample_ratio=0.8,\n",
    "                            random_state=42,random_param = False,\n",
    "                           params={'C':[0.1,0.5,0.7,0.8,0.9,1]})\n",
    "\n",
    "rm.fit(X_train,y_train)\n",
    "accuracy_score(y_test,rm.predict(X_test))"
   ]
  },
  {
   "cell_type": "code",
   "execution_count": 594,
   "metadata": {},
   "outputs": [
    {
     "data": {
      "text/plain": [
       "0.9521276595744681"
      ]
     },
     "execution_count": 594,
     "metadata": {},
     "output_type": "execute_result"
    }
   ],
   "source": [
    "rm = RandomModelsClassifier(LogisticRegression(),\n",
    "                            1000,row_sample_ratio=0.8,\n",
    "                            random_state=42,random_param = True,\n",
    "                           params={'C':[0.1,0.5,0.7,0.8,0.9,1], 'penalty':['l2','l1']})\n",
    "\n",
    "rm.fit(X_train,y_train)\n",
    "accuracy_score(y_test,rm.predict(X_test))"
   ]
  },
  {
   "cell_type": "code",
   "execution_count": 591,
   "metadata": {},
   "outputs": [
    {
     "data": {
      "text/plain": [
       "0.9627659574468085"
      ]
     },
     "execution_count": 591,
     "metadata": {},
     "output_type": "execute_result"
    }
   ],
   "source": [
    "rm = RandomModelsClassifier(LogisticRegression(),\n",
    "                            100,row_sample_ratio=1,\n",
    "                            random_state=42,random_param = True,\n",
    "                           params={'C':[0.1,0.5,0.7,0.8,0.9,1]})\n",
    "\n",
    "rm.fit(X_train,y_train)\n",
    "accuracy_score(y_test,rm.predict(X_test))"
   ]
  },
  {
   "cell_type": "code",
   "execution_count": 579,
   "metadata": {},
   "outputs": [
    {
     "data": {
      "text/plain": [
       "[LogisticRegression(C=0.8, class_weight=None, dual=False, fit_intercept=True,\n",
       "           intercept_scaling=1, max_iter=100, multi_class='ovr', n_jobs=1,\n",
       "           penalty='l1', random_state=None, solver='liblinear', tol=0.0001,\n",
       "           verbose=0, warm_start=False),\n",
       " LogisticRegression(C=1.0, class_weight=None, dual=False, fit_intercept=True,\n",
       "           intercept_scaling=1, max_iter=100, multi_class='ovr', n_jobs=1,\n",
       "           penalty='l2', random_state=None, solver='liblinear', tol=0.0001,\n",
       "           verbose=0, warm_start=False),\n",
       " LogisticRegression(C=0.1, class_weight=None, dual=False, fit_intercept=True,\n",
       "           intercept_scaling=1, max_iter=100, multi_class='ovr', n_jobs=1,\n",
       "           penalty='l2', random_state=None, solver='liblinear', tol=0.0001,\n",
       "           verbose=0, warm_start=False),\n",
       " LogisticRegression(C=1.0, class_weight=None, dual=False, fit_intercept=True,\n",
       "           intercept_scaling=1, max_iter=100, multi_class='ovr', n_jobs=1,\n",
       "           penalty='l2', random_state=None, solver='liblinear', tol=0.0001,\n",
       "           verbose=0, warm_start=False),\n",
       " LogisticRegression(C=0.1, class_weight=None, dual=False, fit_intercept=True,\n",
       "           intercept_scaling=1, max_iter=100, multi_class='ovr', n_jobs=1,\n",
       "           penalty='l2', random_state=None, solver='liblinear', tol=0.0001,\n",
       "           verbose=0, warm_start=False),\n",
       " LogisticRegression(C=0.1, class_weight=None, dual=False, fit_intercept=True,\n",
       "           intercept_scaling=1, max_iter=100, multi_class='ovr', n_jobs=1,\n",
       "           penalty='l2', random_state=None, solver='liblinear', tol=0.0001,\n",
       "           verbose=0, warm_start=False),\n",
       " LogisticRegression(C=0.8, class_weight=None, dual=False, fit_intercept=True,\n",
       "           intercept_scaling=1, max_iter=100, multi_class='ovr', n_jobs=1,\n",
       "           penalty='l1', random_state=None, solver='liblinear', tol=0.0001,\n",
       "           verbose=0, warm_start=False),\n",
       " LogisticRegression(C=0.1, class_weight=None, dual=False, fit_intercept=True,\n",
       "           intercept_scaling=1, max_iter=100, multi_class='ovr', n_jobs=1,\n",
       "           penalty='l2', random_state=None, solver='liblinear', tol=0.0001,\n",
       "           verbose=0, warm_start=False),\n",
       " LogisticRegression(C=1.0, class_weight=None, dual=False, fit_intercept=True,\n",
       "           intercept_scaling=1, max_iter=100, multi_class='ovr', n_jobs=1,\n",
       "           penalty='l1', random_state=None, solver='liblinear', tol=0.0001,\n",
       "           verbose=0, warm_start=False),\n",
       " LogisticRegression(C=0.5, class_weight=None, dual=False, fit_intercept=True,\n",
       "           intercept_scaling=1, max_iter=100, multi_class='ovr', n_jobs=1,\n",
       "           penalty='l1', random_state=None, solver='liblinear', tol=0.0001,\n",
       "           verbose=0, warm_start=False)]"
      ]
     },
     "execution_count": 579,
     "metadata": {},
     "output_type": "execute_result"
    }
   ],
   "source": [
    "rm.forests"
   ]
  },
  {
   "cell_type": "code",
   "execution_count": null,
   "metadata": {},
   "outputs": [],
   "source": []
  },
  {
   "cell_type": "code",
   "execution_count": null,
   "metadata": {},
   "outputs": [],
   "source": []
  },
  {
   "cell_type": "code",
   "execution_count": null,
   "metadata": {},
   "outputs": [],
   "source": []
  },
  {
   "cell_type": "code",
   "execution_count": null,
   "metadata": {},
   "outputs": [],
   "source": []
  },
  {
   "cell_type": "code",
   "execution_count": null,
   "metadata": {},
   "outputs": [],
   "source": []
  },
  {
   "cell_type": "code",
   "execution_count": null,
   "metadata": {},
   "outputs": [],
   "source": []
  },
  {
   "cell_type": "code",
   "execution_count": null,
   "metadata": {},
   "outputs": [],
   "source": []
  }
 ],
 "metadata": {
  "kernelspec": {
   "display_name": "Python 3",
   "language": "python",
   "name": "python3"
  },
  "language_info": {
   "codemirror_mode": {
    "name": "ipython",
    "version": 3
   },
   "file_extension": ".py",
   "mimetype": "text/x-python",
   "name": "python",
   "nbconvert_exporter": "python",
   "pygments_lexer": "ipython3",
   "version": "3.6.6"
  }
 },
 "nbformat": 4,
 "nbformat_minor": 2
}
